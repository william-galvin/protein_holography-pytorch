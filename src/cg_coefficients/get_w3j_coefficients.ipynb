{
 "cells": [
  {
   "cell_type": "code",
   "execution_count": 1,
   "source": [
    "import gzip, pickle\n",
    "import e3nn\n",
    "from e3nn import o3\n",
    "\n",
    "print(e3nn.__version__)"
   ],
   "outputs": [
    {
     "output_type": "stream",
     "name": "stdout",
     "text": [
      "0.5.0\n"
     ]
    }
   ],
   "metadata": {}
  },
  {
   "cell_type": "code",
   "execution_count": 2,
   "source": [
    "def get_wigner_3j(lmax):\n",
    "    w3j_matrices = {}\n",
    "    for l1 in range(lmax + 1):\n",
    "        for l2 in range(lmax + 1):\n",
    "            for l3 in range(abs(l2 - l1), min(l2 + l1, lmax) + 1):\n",
    "                w3j_matrices[(l1, l2, l3)] = o3.wigner_3j(l1, l2, l3).numpy()\n",
    "    return w3j_matrices\n",
    "\n",
    "lmax = 14\n",
    "with gzip.open('w3j_matrices-lmax=%d-version=%s.gz' % (lmax, e3nn.__version__), 'wb') as f:\n",
    "    pickle.dump(get_wigner_3j(lmax), f)"
   ],
   "outputs": [],
   "metadata": {}
  },
  {
   "cell_type": "code",
   "execution_count": null,
   "source": [],
   "outputs": [],
   "metadata": {}
  }
 ],
 "metadata": {
  "orig_nbformat": 4,
  "language_info": {
   "name": "python",
   "version": "3.9.7",
   "mimetype": "text/x-python",
   "codemirror_mode": {
    "name": "ipython",
    "version": 3
   },
   "pygments_lexer": "ipython3",
   "nbconvert_exporter": "python",
   "file_extension": ".py"
  },
  "kernelspec": {
   "name": "python3",
   "display_name": "Python 3.9.7 64-bit ('cgnet': conda)"
  },
  "interpreter": {
   "hash": "456e7dc3219ddbab120305b024116226bb4af9f1d17ea8109a5b9a9288d4d979"
  }
 },
 "nbformat": 4,
 "nbformat_minor": 2
}